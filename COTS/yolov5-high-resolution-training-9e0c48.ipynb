{
 "cells": [
  {
   "cell_type": "markdown",
   "id": "b198f27d",
   "metadata": {
    "papermill": {
     "duration": 0.022484,
     "end_time": "2022-02-14T08:11:27.288496",
     "exception": false,
     "start_time": "2022-02-14T08:11:27.266012",
     "status": "completed"
    },
    "tags": []
   },
   "source": [
    "## Yolov5 high resolution training\n",
    "\n",
    "### Major modification\n",
    "* img=3600\n",
    "* mixup=0.5\n",
    "* fliplr: 0.5\n",
    "\n",
    "### Hardware to reproduce\n",
    "* RTX3090"
   ]
  },
  {
   "cell_type": "code",
   "execution_count": 1,
   "id": "35c30c98",
   "metadata": {
    "execution": {
     "iopub.execute_input": "2022-02-14T08:11:27.338129Z",
     "iopub.status.busy": "2022-02-14T08:11:27.336428Z",
     "iopub.status.idle": "2022-02-14T08:11:27.340346Z",
     "shell.execute_reply": "2022-02-14T08:11:27.340830Z",
     "shell.execute_reply.started": "2022-02-07T06:21:25.965788Z"
    },
    "papermill": {
     "duration": 0.031038,
     "end_time": "2022-02-14T08:11:27.341030",
     "exception": false,
     "start_time": "2022-02-14T08:11:27.309992",
     "status": "completed"
    },
    "tags": []
   },
   "outputs": [],
   "source": [
    "#https://www.kaggle.com/sentrankim/fast-augmentation-by-albumentation-multi-process"
   ]
  },
  {
   "cell_type": "markdown",
   "id": "2bd0707b",
   "metadata": {
    "papermill": {
     "duration": 0.021063,
     "end_time": "2022-02-14T08:11:27.383120",
     "exception": false,
     "start_time": "2022-02-14T08:11:27.362057",
     "status": "completed"
    },
    "tags": []
   },
   "source": [
    "# image Enhancement"
   ]
  },
  {
   "cell_type": "markdown",
   "id": "3af65092",
   "metadata": {
    "papermill": {
     "duration": 0.021554,
     "end_time": "2022-02-14T08:11:27.425563",
     "exception": false,
     "start_time": "2022-02-14T08:11:27.404009",
     "status": "completed"
    },
    "tags": []
   },
   "source": [
    "#### image enhancment end"
   ]
  },
  {
   "cell_type": "markdown",
   "id": "6298b7a5",
   "metadata": {
    "papermill": {
     "duration": 0.024186,
     "end_time": "2022-02-14T08:11:27.473109",
     "exception": false,
     "start_time": "2022-02-14T08:11:27.448923",
     "status": "completed"
    },
    "tags": []
   },
   "source": [
    "# Train"
   ]
  },
  {
   "cell_type": "code",
   "execution_count": 2,
   "id": "e9a0d810",
   "metadata": {
    "execution": {
     "iopub.execute_input": "2022-02-14T08:11:27.532244Z",
     "iopub.status.busy": "2022-02-14T08:11:27.531641Z",
     "iopub.status.idle": "2022-02-14T08:11:29.972415Z",
     "shell.execute_reply": "2022-02-14T08:11:29.973131Z",
     "shell.execute_reply.started": "2022-02-11T16:13:14.074035Z"
    },
    "papermill": {
     "duration": 2.475932,
     "end_time": "2022-02-14T08:11:29.973334",
     "exception": false,
     "start_time": "2022-02-14T08:11:27.497402",
     "status": "completed"
    },
    "tags": []
   },
   "outputs": [
    {
     "name": "stderr",
     "output_type": "stream",
     "text": [
      "\u001b[34m\u001b[1mwandb\u001b[0m: W&B API key is configured (use `wandb login --relogin` to force relogin)\n",
      "\u001b[34m\u001b[1mwandb\u001b[0m: \u001b[33mWARNING\u001b[0m If you're specifying your api key in code, ensure this code is not shared publically.\n",
      "\u001b[34m\u001b[1mwandb\u001b[0m: \u001b[33mWARNING\u001b[0m Consider setting the WANDB_API_KEY environment variable, or running `wandb login` from the command line.\n",
      "\u001b[34m\u001b[1mwandb\u001b[0m: Appending key for api.wandb.ai to your netrc file: /root/.netrc\n"
     ]
    },
    {
     "data": {
      "text/plain": [
       "True"
      ]
     },
     "execution_count": 2,
     "metadata": {},
     "output_type": "execute_result"
    }
   ],
   "source": [
    "import wandb\n",
    "from kaggle_secrets import UserSecretsClient\n",
    "\n",
    "user_secrets = UserSecretsClient()\n",
    "\n",
    "# I have saved my API token with \"wandb_api\" as Label. \n",
    "# If you use some other Label make sure to change the same below. \n",
    "wandb_api = '7f0b0b26236eae67c25381f94363123b539faad3'\n",
    "#user_secrets.get_secret(\"wandb_api\") \n",
    "\n",
    "wandb.login(key=wandb_api)"
   ]
  },
  {
   "cell_type": "code",
   "execution_count": 3,
   "id": "4b06dce5",
   "metadata": {
    "execution": {
     "iopub.execute_input": "2022-02-14T08:11:30.053296Z",
     "iopub.status.busy": "2022-02-14T08:11:30.052627Z",
     "iopub.status.idle": "2022-02-14T08:11:34.556544Z",
     "shell.execute_reply": "2022-02-14T08:11:34.556136Z",
     "shell.execute_reply.started": "2022-02-11T16:13:15.82955Z"
    },
    "papermill": {
     "duration": 4.544941,
     "end_time": "2022-02-14T08:11:34.556664",
     "exception": false,
     "start_time": "2022-02-14T08:11:30.011723",
     "status": "completed"
    },
    "tags": []
   },
   "outputs": [
    {
     "name": "stderr",
     "output_type": "stream",
     "text": [
      "\u001b[34m\u001b[1mwandb\u001b[0m: Currently logged in as: \u001b[33mmochi22\u001b[0m (use `wandb login --relogin` to force relogin)\n"
     ]
    },
    {
     "data": {
      "text/plain": [
       "True"
      ]
     },
     "execution_count": 3,
     "metadata": {},
     "output_type": "execute_result"
    }
   ],
   "source": [
    "from wandb.keras import WandbCallback\n",
    "\n",
    "wandb.login()"
   ]
  },
  {
   "cell_type": "code",
   "execution_count": 4,
   "id": "b3b45692",
   "metadata": {
    "_cell_guid": "b1076dfc-b9ad-4769-8c92-a6c4dae69d19",
    "_uuid": "8f2839f25d086af736a60e9eeb907d3b93b6e0e5",
    "execution": {
     "iopub.execute_input": "2022-02-14T08:11:34.607262Z",
     "iopub.status.busy": "2022-02-14T08:11:34.605132Z",
     "iopub.status.idle": "2022-02-14T08:11:34.609757Z",
     "shell.execute_reply": "2022-02-14T08:11:34.609327Z",
     "shell.execute_reply.started": "2022-02-14T07:46:23.328549Z"
    },
    "papermill": {
     "duration": 0.030106,
     "end_time": "2022-02-14T08:11:34.609873",
     "exception": false,
     "start_time": "2022-02-14T08:11:34.579767",
     "status": "completed"
    },
    "tags": []
   },
   "outputs": [],
   "source": [
    "# This Python 3 environment comes with many helpful analytics libraries installed\n",
    "# It is defined by the kaggle/python Docker image: https://github.com/kaggle/docker-python\n",
    "# For example, here's several helpful packages to load\n",
    "\n",
    "import numpy as np # linear algebra\n",
    "import pandas as pd # data processing, CSV file I/O (e.g. pd.read_csv)\n",
    "from shutil import copyfile\n",
    "import os\n",
    "os.environ[\"TF_FORCE_GPU_ALLOW_GROWTH\"]= \"true\"\n",
    "# Input data files are available in the read-only \"../input/\" directory\n",
    "# For example, running this (by clicking run or pressing Shift+Enter) will list all files under the input directory"
   ]
  },
  {
   "cell_type": "code",
   "execution_count": 5,
   "id": "3ab4b065",
   "metadata": {
    "execution": {
     "iopub.execute_input": "2022-02-14T08:11:34.659034Z",
     "iopub.status.busy": "2022-02-14T08:11:34.658203Z",
     "iopub.status.idle": "2022-02-14T08:11:35.501591Z",
     "shell.execute_reply": "2022-02-14T08:11:35.501129Z",
     "shell.execute_reply.started": "2022-02-14T07:46:23.421716Z"
    },
    "papermill": {
     "duration": 0.868007,
     "end_time": "2022-02-14T08:11:35.501745",
     "exception": false,
     "start_time": "2022-02-14T08:11:34.633738",
     "status": "completed"
    },
    "tags": []
   },
   "outputs": [],
   "source": [
    "import tensorflow_addons as tfa\n",
    "import warnings\n",
    "warnings.filterwarnings('ignore')\n",
    "import cv2\n",
    "import numpy as np # linear algebra\n",
    "import pandas as pd # data processing, CSV file I/O (e.g. pd.read_csv)\n",
    "import os\n",
    "import matplotlib.pyplot as plt\n",
    "import seaborn as sns\n",
    "import random\n",
    "#import ffmpeg\n",
    "#from IPython.display import Video\n",
    "from tqdm import tqdm\n",
    "import tensorflow as tf\n",
    "import tensorflow_addons as tfa\n",
    "import logging\n",
    "from itertools import cycle\n",
    "\n",
    "import cv2\n",
    "import numpy as np\n",
    "\n",
    "logging.disable(logging.WARNING)\n",
    "os.environ['TF_CPP_MIN_LOG_LEVEL'] = '3' \n",
    "\n",
    "\n",
    "plt.style.use('ggplot')\n",
    "cm = sns.light_palette(\"green\", as_cmap=True)\n",
    "pd.option_context('display.max_colwidth', 100)\n",
    "color_pal = plt.rcParams[\"axes.prop_cycle\"].by_key()[\"color\"]\n",
    "color_cycle = cycle(plt.rcParams[\"axes.prop_cycle\"].by_key()[\"color\"])\n",
    "# SEED EVERYTHING\n",
    "random.seed(hash(\"setting random seeds\") % 2**32 - 1)\n",
    "np.random.seed(hash(\"improves reproducibility\") % 2**32 - 1)"
   ]
  },
  {
   "cell_type": "code",
   "execution_count": 6,
   "id": "c6607517",
   "metadata": {
    "execution": {
     "iopub.execute_input": "2022-02-14T08:11:35.553190Z",
     "iopub.status.busy": "2022-02-14T08:11:35.552597Z",
     "iopub.status.idle": "2022-02-14T08:11:35.671856Z",
     "shell.execute_reply": "2022-02-14T08:11:35.671427Z",
     "shell.execute_reply.started": "2022-02-14T07:46:31.331771Z"
    },
    "papermill": {
     "duration": 0.147035,
     "end_time": "2022-02-14T08:11:35.671979",
     "exception": false,
     "start_time": "2022-02-14T08:11:35.524944",
     "status": "completed"
    },
    "tags": []
   },
   "outputs": [
    {
     "data": {
      "text/html": [
       "<div>\n",
       "<style scoped>\n",
       "    .dataframe tbody tr th:only-of-type {\n",
       "        vertical-align: middle;\n",
       "    }\n",
       "\n",
       "    .dataframe tbody tr th {\n",
       "        vertical-align: top;\n",
       "    }\n",
       "\n",
       "    .dataframe thead th {\n",
       "        text-align: right;\n",
       "    }\n",
       "</style>\n",
       "<table border=\"1\" class=\"dataframe\">\n",
       "  <thead>\n",
       "    <tr style=\"text-align: right;\">\n",
       "      <th></th>\n",
       "      <th>video_id</th>\n",
       "      <th>sequence</th>\n",
       "      <th>video_frame</th>\n",
       "      <th>sequence_frame</th>\n",
       "      <th>image_id</th>\n",
       "      <th>annotations</th>\n",
       "      <th>n_annotations</th>\n",
       "      <th>has_annotations</th>\n",
       "      <th>image_path</th>\n",
       "      <th>subsequence_id</th>\n",
       "      <th>fold</th>\n",
       "      <th>pos</th>\n",
       "    </tr>\n",
       "  </thead>\n",
       "  <tbody>\n",
       "    <tr>\n",
       "      <th>0</th>\n",
       "      <td>0</td>\n",
       "      <td>40258</td>\n",
       "      <td>0</td>\n",
       "      <td>0</td>\n",
       "      <td>0-0</td>\n",
       "      <td>[]</td>\n",
       "      <td>0</td>\n",
       "      <td>False</td>\n",
       "      <td>../input/tensorflow-great-barrier-reef/train_i...</td>\n",
       "      <td>1</td>\n",
       "      <td>2</td>\n",
       "      <td>False</td>\n",
       "    </tr>\n",
       "    <tr>\n",
       "      <th>1</th>\n",
       "      <td>0</td>\n",
       "      <td>40258</td>\n",
       "      <td>1</td>\n",
       "      <td>1</td>\n",
       "      <td>0-1</td>\n",
       "      <td>[]</td>\n",
       "      <td>0</td>\n",
       "      <td>False</td>\n",
       "      <td>../input/tensorflow-great-barrier-reef/train_i...</td>\n",
       "      <td>1</td>\n",
       "      <td>2</td>\n",
       "      <td>False</td>\n",
       "    </tr>\n",
       "    <tr>\n",
       "      <th>2</th>\n",
       "      <td>0</td>\n",
       "      <td>40258</td>\n",
       "      <td>2</td>\n",
       "      <td>2</td>\n",
       "      <td>0-2</td>\n",
       "      <td>[]</td>\n",
       "      <td>0</td>\n",
       "      <td>False</td>\n",
       "      <td>../input/tensorflow-great-barrier-reef/train_i...</td>\n",
       "      <td>1</td>\n",
       "      <td>2</td>\n",
       "      <td>False</td>\n",
       "    </tr>\n",
       "    <tr>\n",
       "      <th>3</th>\n",
       "      <td>0</td>\n",
       "      <td>40258</td>\n",
       "      <td>3</td>\n",
       "      <td>3</td>\n",
       "      <td>0-3</td>\n",
       "      <td>[]</td>\n",
       "      <td>0</td>\n",
       "      <td>False</td>\n",
       "      <td>../input/tensorflow-great-barrier-reef/train_i...</td>\n",
       "      <td>1</td>\n",
       "      <td>2</td>\n",
       "      <td>False</td>\n",
       "    </tr>\n",
       "    <tr>\n",
       "      <th>4</th>\n",
       "      <td>0</td>\n",
       "      <td>40258</td>\n",
       "      <td>4</td>\n",
       "      <td>4</td>\n",
       "      <td>0-4</td>\n",
       "      <td>[]</td>\n",
       "      <td>0</td>\n",
       "      <td>False</td>\n",
       "      <td>../input/tensorflow-great-barrier-reef/train_i...</td>\n",
       "      <td>1</td>\n",
       "      <td>2</td>\n",
       "      <td>False</td>\n",
       "    </tr>\n",
       "    <tr>\n",
       "      <th>...</th>\n",
       "      <td>...</td>\n",
       "      <td>...</td>\n",
       "      <td>...</td>\n",
       "      <td>...</td>\n",
       "      <td>...</td>\n",
       "      <td>...</td>\n",
       "      <td>...</td>\n",
       "      <td>...</td>\n",
       "      <td>...</td>\n",
       "      <td>...</td>\n",
       "      <td>...</td>\n",
       "      <td>...</td>\n",
       "    </tr>\n",
       "    <tr>\n",
       "      <th>23496</th>\n",
       "      <td>2</td>\n",
       "      <td>29859</td>\n",
       "      <td>10755</td>\n",
       "      <td>2983</td>\n",
       "      <td>2-10755</td>\n",
       "      <td>[]</td>\n",
       "      <td>0</td>\n",
       "      <td>False</td>\n",
       "      <td>../input/tensorflow-great-barrier-reef/train_i...</td>\n",
       "      <td>137</td>\n",
       "      <td>3</td>\n",
       "      <td>False</td>\n",
       "    </tr>\n",
       "    <tr>\n",
       "      <th>23497</th>\n",
       "      <td>2</td>\n",
       "      <td>29859</td>\n",
       "      <td>10756</td>\n",
       "      <td>2984</td>\n",
       "      <td>2-10756</td>\n",
       "      <td>[]</td>\n",
       "      <td>0</td>\n",
       "      <td>False</td>\n",
       "      <td>../input/tensorflow-great-barrier-reef/train_i...</td>\n",
       "      <td>137</td>\n",
       "      <td>3</td>\n",
       "      <td>False</td>\n",
       "    </tr>\n",
       "    <tr>\n",
       "      <th>23498</th>\n",
       "      <td>2</td>\n",
       "      <td>29859</td>\n",
       "      <td>10757</td>\n",
       "      <td>2985</td>\n",
       "      <td>2-10757</td>\n",
       "      <td>[]</td>\n",
       "      <td>0</td>\n",
       "      <td>False</td>\n",
       "      <td>../input/tensorflow-great-barrier-reef/train_i...</td>\n",
       "      <td>137</td>\n",
       "      <td>3</td>\n",
       "      <td>False</td>\n",
       "    </tr>\n",
       "    <tr>\n",
       "      <th>23499</th>\n",
       "      <td>2</td>\n",
       "      <td>29859</td>\n",
       "      <td>10758</td>\n",
       "      <td>2986</td>\n",
       "      <td>2-10758</td>\n",
       "      <td>[]</td>\n",
       "      <td>0</td>\n",
       "      <td>False</td>\n",
       "      <td>../input/tensorflow-great-barrier-reef/train_i...</td>\n",
       "      <td>137</td>\n",
       "      <td>3</td>\n",
       "      <td>False</td>\n",
       "    </tr>\n",
       "    <tr>\n",
       "      <th>23500</th>\n",
       "      <td>2</td>\n",
       "      <td>29859</td>\n",
       "      <td>10759</td>\n",
       "      <td>2987</td>\n",
       "      <td>2-10759</td>\n",
       "      <td>[]</td>\n",
       "      <td>0</td>\n",
       "      <td>False</td>\n",
       "      <td>../input/tensorflow-great-barrier-reef/train_i...</td>\n",
       "      <td>137</td>\n",
       "      <td>3</td>\n",
       "      <td>False</td>\n",
       "    </tr>\n",
       "  </tbody>\n",
       "</table>\n",
       "<p>23501 rows × 12 columns</p>\n",
       "</div>"
      ],
      "text/plain": [
       "       video_id  sequence  video_frame  sequence_frame image_id annotations  \\\n",
       "0             0     40258            0               0      0-0          []   \n",
       "1             0     40258            1               1      0-1          []   \n",
       "2             0     40258            2               2      0-2          []   \n",
       "3             0     40258            3               3      0-3          []   \n",
       "4             0     40258            4               4      0-4          []   \n",
       "...         ...       ...          ...             ...      ...         ...   \n",
       "23496         2     29859        10755            2983  2-10755          []   \n",
       "23497         2     29859        10756            2984  2-10756          []   \n",
       "23498         2     29859        10757            2985  2-10757          []   \n",
       "23499         2     29859        10758            2986  2-10758          []   \n",
       "23500         2     29859        10759            2987  2-10759          []   \n",
       "\n",
       "       n_annotations  has_annotations  \\\n",
       "0                  0            False   \n",
       "1                  0            False   \n",
       "2                  0            False   \n",
       "3                  0            False   \n",
       "4                  0            False   \n",
       "...              ...              ...   \n",
       "23496              0            False   \n",
       "23497              0            False   \n",
       "23498              0            False   \n",
       "23499              0            False   \n",
       "23500              0            False   \n",
       "\n",
       "                                              image_path  subsequence_id  \\\n",
       "0      ../input/tensorflow-great-barrier-reef/train_i...               1   \n",
       "1      ../input/tensorflow-great-barrier-reef/train_i...               1   \n",
       "2      ../input/tensorflow-great-barrier-reef/train_i...               1   \n",
       "3      ../input/tensorflow-great-barrier-reef/train_i...               1   \n",
       "4      ../input/tensorflow-great-barrier-reef/train_i...               1   \n",
       "...                                                  ...             ...   \n",
       "23496  ../input/tensorflow-great-barrier-reef/train_i...             137   \n",
       "23497  ../input/tensorflow-great-barrier-reef/train_i...             137   \n",
       "23498  ../input/tensorflow-great-barrier-reef/train_i...             137   \n",
       "23499  ../input/tensorflow-great-barrier-reef/train_i...             137   \n",
       "23500  ../input/tensorflow-great-barrier-reef/train_i...             137   \n",
       "\n",
       "       fold    pos  \n",
       "0         2  False  \n",
       "1         2  False  \n",
       "2         2  False  \n",
       "3         2  False  \n",
       "4         2  False  \n",
       "...     ...    ...  \n",
       "23496     3  False  \n",
       "23497     3  False  \n",
       "23498     3  False  \n",
       "23499     3  False  \n",
       "23500     3  False  \n",
       "\n",
       "[23501 rows x 12 columns]"
      ]
     },
     "execution_count": 6,
     "metadata": {},
     "output_type": "execute_result"
    }
   ],
   "source": [
    "#train = pd.read_csv('../input/tensorflow-great-barrier-reef/train.csv')\n",
    "train = pd.read_csv('../input/reef-cv-strategy-subsequences-dataframes/cross-validation/train-5folds.csv')\n",
    "train['pos'] = train.annotations != '[]'\n",
    "train"
   ]
  },
  {
   "cell_type": "code",
   "execution_count": 7,
   "id": "960e7a3f",
   "metadata": {
    "execution": {
     "iopub.execute_input": "2022-02-14T08:11:35.722735Z",
     "iopub.status.busy": "2022-02-14T08:11:35.722205Z",
     "iopub.status.idle": "2022-02-14T08:11:35.781749Z",
     "shell.execute_reply": "2022-02-14T08:11:35.782157Z",
     "shell.execute_reply.started": "2022-02-14T07:46:31.491306Z"
    },
    "papermill": {
     "duration": 0.086942,
     "end_time": "2022-02-14T08:11:35.782297",
     "exception": false,
     "start_time": "2022-02-14T08:11:35.695355",
     "status": "completed"
    },
    "tags": []
   },
   "outputs": [
    {
     "data": {
      "text/html": [
       "<div>\n",
       "<style scoped>\n",
       "    .dataframe tbody tr th:only-of-type {\n",
       "        vertical-align: middle;\n",
       "    }\n",
       "\n",
       "    .dataframe tbody tr th {\n",
       "        vertical-align: top;\n",
       "    }\n",
       "\n",
       "    .dataframe thead th {\n",
       "        text-align: right;\n",
       "    }\n",
       "</style>\n",
       "<table border=\"1\" class=\"dataframe\">\n",
       "  <thead>\n",
       "    <tr style=\"text-align: right;\">\n",
       "      <th></th>\n",
       "      <th>alls_4</th>\n",
       "      <th>path_4</th>\n",
       "      <th>nonpass4</th>\n",
       "    </tr>\n",
       "  </thead>\n",
       "  <tbody>\n",
       "    <tr>\n",
       "      <th>0</th>\n",
       "      <td>{'x': 256, 'y': 144, 'width': 100, 'height': 64}</td>\n",
       "      <td>./img512_288/cots_crops/cotscrop-video_0-16-0.jpg</td>\n",
       "      <td>./img512_288/notcots_crops/notcotscrop-video_2...</td>\n",
       "    </tr>\n",
       "    <tr>\n",
       "      <th>1</th>\n",
       "      <td>{'x': 256, 'y': 144, 'width': 100, 'height': 64}</td>\n",
       "      <td>./img512_288/cots_crops/cotscrop-video_0-17-0.jpg</td>\n",
       "      <td>./img512_288/notcots_crops/notcotscrop-video_1...</td>\n",
       "    </tr>\n",
       "    <tr>\n",
       "      <th>2</th>\n",
       "      <td>{'x': 256, 'y': 144, 'width': 100, 'height': 64}</td>\n",
       "      <td>./img512_288/cots_crops/cotscrop-video_0-18-0.jpg</td>\n",
       "      <td>./img512_288/notcots_crops/notcotscrop-video_2...</td>\n",
       "    </tr>\n",
       "    <tr>\n",
       "      <th>3</th>\n",
       "      <td>{'x': 256, 'y': 144, 'width': 100, 'height': 64}</td>\n",
       "      <td>./img512_288/cots_crops/cotscrop-video_0-19-0.jpg</td>\n",
       "      <td>./img512_288/notcots_crops/notcotscrop-video_0...</td>\n",
       "    </tr>\n",
       "    <tr>\n",
       "      <th>4</th>\n",
       "      <td>{'x': 256, 'y': 144, 'width': 100, 'height': 64}</td>\n",
       "      <td>./img512_288/cots_crops/cotscrop-video_0-20-0.jpg</td>\n",
       "      <td>./img512_288/notcots_crops/notcotscrop-video_1...</td>\n",
       "    </tr>\n",
       "    <tr>\n",
       "      <th>...</th>\n",
       "      <td>...</td>\n",
       "      <td>...</td>\n",
       "      <td>...</td>\n",
       "    </tr>\n",
       "    <tr>\n",
       "      <th>11893</th>\n",
       "      <td>{'x': 256, 'y': 144, 'width': 80, 'height': 74}</td>\n",
       "      <td>./img512_288/cots_crops/cotscrop-video_2-10628...</td>\n",
       "      <td>./img512_288/notcots_crops/notcotscrop-video_1...</td>\n",
       "    </tr>\n",
       "    <tr>\n",
       "      <th>11894</th>\n",
       "      <td>{'x': 256, 'y': 144, 'width': 80, 'height': 74}</td>\n",
       "      <td>./img512_288/cots_crops/cotscrop-video_2-10629...</td>\n",
       "      <td>./img512_288/notcots_crops/notcotscrop-video_0...</td>\n",
       "    </tr>\n",
       "    <tr>\n",
       "      <th>11895</th>\n",
       "      <td>{'x': 256, 'y': 144, 'width': 82, 'height': 74}</td>\n",
       "      <td>./img512_288/cots_crops/cotscrop-video_2-10630...</td>\n",
       "      <td>./img512_288/notcots_crops/notcotscrop-video_1...</td>\n",
       "    </tr>\n",
       "    <tr>\n",
       "      <th>11896</th>\n",
       "      <td>{'x': 256, 'y': 144, 'width': 88, 'height': 74}</td>\n",
       "      <td>./img512_288/cots_crops/cotscrop-video_2-10631...</td>\n",
       "      <td>./img512_288/notcots_crops/notcotscrop-video_1...</td>\n",
       "    </tr>\n",
       "    <tr>\n",
       "      <th>11897</th>\n",
       "      <td>{'x': 256, 'y': 144, 'width': 92, 'height': 74}</td>\n",
       "      <td>./img512_288/cots_crops/cotscrop-video_2-10632...</td>\n",
       "      <td>./img512_288/notcots_crops/notcotscrop-video_1...</td>\n",
       "    </tr>\n",
       "  </tbody>\n",
       "</table>\n",
       "<p>11898 rows × 3 columns</p>\n",
       "</div>"
      ],
      "text/plain": [
       "                                                 alls_4  \\\n",
       "0      {'x': 256, 'y': 144, 'width': 100, 'height': 64}   \n",
       "1      {'x': 256, 'y': 144, 'width': 100, 'height': 64}   \n",
       "2      {'x': 256, 'y': 144, 'width': 100, 'height': 64}   \n",
       "3      {'x': 256, 'y': 144, 'width': 100, 'height': 64}   \n",
       "4      {'x': 256, 'y': 144, 'width': 100, 'height': 64}   \n",
       "...                                                 ...   \n",
       "11893   {'x': 256, 'y': 144, 'width': 80, 'height': 74}   \n",
       "11894   {'x': 256, 'y': 144, 'width': 80, 'height': 74}   \n",
       "11895   {'x': 256, 'y': 144, 'width': 82, 'height': 74}   \n",
       "11896   {'x': 256, 'y': 144, 'width': 88, 'height': 74}   \n",
       "11897   {'x': 256, 'y': 144, 'width': 92, 'height': 74}   \n",
       "\n",
       "                                                  path_4  \\\n",
       "0      ./img512_288/cots_crops/cotscrop-video_0-16-0.jpg   \n",
       "1      ./img512_288/cots_crops/cotscrop-video_0-17-0.jpg   \n",
       "2      ./img512_288/cots_crops/cotscrop-video_0-18-0.jpg   \n",
       "3      ./img512_288/cots_crops/cotscrop-video_0-19-0.jpg   \n",
       "4      ./img512_288/cots_crops/cotscrop-video_0-20-0.jpg   \n",
       "...                                                  ...   \n",
       "11893  ./img512_288/cots_crops/cotscrop-video_2-10628...   \n",
       "11894  ./img512_288/cots_crops/cotscrop-video_2-10629...   \n",
       "11895  ./img512_288/cots_crops/cotscrop-video_2-10630...   \n",
       "11896  ./img512_288/cots_crops/cotscrop-video_2-10631...   \n",
       "11897  ./img512_288/cots_crops/cotscrop-video_2-10632...   \n",
       "\n",
       "                                                nonpass4  \n",
       "0      ./img512_288/notcots_crops/notcotscrop-video_2...  \n",
       "1      ./img512_288/notcots_crops/notcotscrop-video_1...  \n",
       "2      ./img512_288/notcots_crops/notcotscrop-video_2...  \n",
       "3      ./img512_288/notcots_crops/notcotscrop-video_0...  \n",
       "4      ./img512_288/notcots_crops/notcotscrop-video_1...  \n",
       "...                                                  ...  \n",
       "11893  ./img512_288/notcots_crops/notcotscrop-video_1...  \n",
       "11894  ./img512_288/notcots_crops/notcotscrop-video_0...  \n",
       "11895  ./img512_288/notcots_crops/notcotscrop-video_1...  \n",
       "11896  ./img512_288/notcots_crops/notcotscrop-video_1...  \n",
       "11897  ./img512_288/notcots_crops/notcotscrop-video_1...  \n",
       "\n",
       "[11898 rows x 3 columns]"
      ]
     },
     "execution_count": 7,
     "metadata": {},
     "output_type": "execute_result"
    }
   ],
   "source": [
    "df4 = pd.read_csv('../input/cropdataframes/cropdf_0.4')\n",
    "df4 = df4[['alls_4','path_4','nonpass4']]\n",
    "df4"
   ]
  },
  {
   "cell_type": "code",
   "execution_count": 8,
   "id": "bffc2363",
   "metadata": {
    "execution": {
     "iopub.execute_input": "2022-02-14T08:11:35.863418Z",
     "iopub.status.busy": "2022-02-14T08:11:35.842982Z",
     "iopub.status.idle": "2022-02-14T08:11:36.065097Z",
     "shell.execute_reply": "2022-02-14T08:11:36.065465Z",
     "shell.execute_reply.started": "2022-02-14T07:51:47.227850Z"
    },
    "papermill": {
     "duration": 0.259172,
     "end_time": "2022-02-14T08:11:36.065601",
     "exception": false,
     "start_time": "2022-02-14T08:11:35.806429",
     "status": "completed"
    },
    "tags": []
   },
   "outputs": [
    {
     "name": "stdout",
     "output_type": "stream",
     "text": [
      "11898 11898\n"
     ]
    }
   ],
   "source": [
    "import ast\n",
    "areas=[]\n",
    "areas_1000 = []\n",
    "for i in df4['alls_4']:\n",
    "    i = ast.literal_eval(i)\n",
    "    w = i['width']\n",
    "    h = i['height']\n",
    "    area = w*h\n",
    "    area_1000 = int(area/1000)\n",
    "    areas.append(area)\n",
    "    areas_1000.append(area_1000)\n",
    "print(len(areas),len(areas_1000))"
   ]
  },
  {
   "cell_type": "code",
   "execution_count": 9,
   "id": "fff0a0ce",
   "metadata": {
    "execution": {
     "iopub.execute_input": "2022-02-14T08:11:36.122833Z",
     "iopub.status.busy": "2022-02-14T08:11:36.122127Z",
     "iopub.status.idle": "2022-02-14T08:11:36.126699Z",
     "shell.execute_reply": "2022-02-14T08:11:36.126258Z",
     "shell.execute_reply.started": "2022-02-14T07:48:52.719139Z"
    },
    "papermill": {
     "duration": 0.036687,
     "end_time": "2022-02-14T08:11:36.126855",
     "exception": false,
     "start_time": "2022-02-14T08:11:36.090168",
     "status": "completed"
    },
    "tags": []
   },
   "outputs": [
    {
     "name": "stdout",
     "output_type": "stream",
     "text": [
      "11898 ['cots_crops/cotscrop-video_0-16-0.jpg', 'cots_crops/cotscrop-video_0-17-0.jpg', 'cots_crops/cotscrop-video_0-18-0.jpg', 'cots_crops/cotscrop-video_0-19-0.jpg', 'cots_crops/cotscrop-video_0-20-0.jpg']\n"
     ]
    }
   ],
   "source": [
    "path = []\n",
    "for i in df4['path_4']:\n",
    "    path.append(i[13:])\n",
    "print(len(path),path[:5])"
   ]
  },
  {
   "cell_type": "code",
   "execution_count": 10,
   "id": "726ae3ee",
   "metadata": {
    "execution": {
     "iopub.execute_input": "2022-02-14T08:11:36.184804Z",
     "iopub.status.busy": "2022-02-14T08:11:36.178451Z",
     "iopub.status.idle": "2022-02-14T08:11:36.186807Z",
     "shell.execute_reply": "2022-02-14T08:11:36.187203Z",
     "shell.execute_reply.started": "2022-02-14T07:49:42.586160Z"
    },
    "papermill": {
     "duration": 0.035511,
     "end_time": "2022-02-14T08:11:36.187363",
     "exception": false,
     "start_time": "2022-02-14T08:11:36.151852",
     "status": "completed"
    },
    "tags": []
   },
   "outputs": [],
   "source": [
    "nonpath = []\n",
    "for i in df4['nonpass4']:\n",
    "    nonpath.append(i[13:])\n"
   ]
  },
  {
   "cell_type": "code",
   "execution_count": 11,
   "id": "f21053e6",
   "metadata": {
    "execution": {
     "iopub.execute_input": "2022-02-14T08:11:36.240192Z",
     "iopub.status.busy": "2022-02-14T08:11:36.239613Z",
     "iopub.status.idle": "2022-02-14T08:11:36.242228Z",
     "shell.execute_reply": "2022-02-14T08:11:36.242629Z",
     "shell.execute_reply.started": "2022-02-14T07:49:58.886876Z"
    },
    "papermill": {
     "duration": 0.030913,
     "end_time": "2022-02-14T08:11:36.242764",
     "exception": false,
     "start_time": "2022-02-14T08:11:36.211851",
     "status": "completed"
    },
    "tags": []
   },
   "outputs": [
    {
     "name": "stdout",
     "output_type": "stream",
     "text": [
      "11898 ['notcots_crops/notcotscrop-video_2-4331-0.jpg', 'notcots_crops/notcotscrop-video_1-8615-0.jpg', 'notcots_crops/notcotscrop-video_2-513-0.jpg', 'notcots_crops/notcotscrop-video_0-2020-0.jpg', 'notcots_crops/notcotscrop-video_1-819-0.jpg']\n"
     ]
    }
   ],
   "source": [
    "print(len(nonpath),nonpath[:5])"
   ]
  },
  {
   "cell_type": "code",
   "execution_count": 12,
   "id": "ef1d18ec",
   "metadata": {
    "execution": {
     "iopub.execute_input": "2022-02-14T08:11:36.298929Z",
     "iopub.status.busy": "2022-02-14T08:11:36.298254Z",
     "iopub.status.idle": "2022-02-14T08:11:36.300963Z",
     "shell.execute_reply": "2022-02-14T08:11:36.300514Z",
     "shell.execute_reply.started": "2022-02-14T07:50:56.093955Z"
    },
    "papermill": {
     "duration": 0.033868,
     "end_time": "2022-02-14T08:11:36.301081",
     "exception": false,
     "start_time": "2022-02-14T08:11:36.267213",
     "status": "completed"
    },
    "tags": []
   },
   "outputs": [],
   "source": [
    "df4['path'] = path\n",
    "df4['nonpath'] = nonpath"
   ]
  },
  {
   "cell_type": "code",
   "execution_count": 13,
   "id": "1868e075",
   "metadata": {
    "execution": {
     "iopub.execute_input": "2022-02-14T08:11:36.359568Z",
     "iopub.status.busy": "2022-02-14T08:11:36.358762Z",
     "iopub.status.idle": "2022-02-14T08:11:36.361086Z",
     "shell.execute_reply": "2022-02-14T08:11:36.360625Z",
     "shell.execute_reply.started": "2022-02-14T08:01:28.289263Z"
    },
    "papermill": {
     "duration": 0.035398,
     "end_time": "2022-02-14T08:11:36.361188",
     "exception": false,
     "start_time": "2022-02-14T08:11:36.325790",
     "status": "completed"
    },
    "tags": []
   },
   "outputs": [],
   "source": [
    "zeros = [0]*11898\n",
    "df4['nonalls_4'] = zeros"
   ]
  },
  {
   "cell_type": "code",
   "execution_count": 14,
   "id": "4bd79153",
   "metadata": {
    "execution": {
     "iopub.execute_input": "2022-02-14T08:11:36.413356Z",
     "iopub.status.busy": "2022-02-14T08:11:36.412576Z",
     "iopub.status.idle": "2022-02-14T08:11:36.568053Z",
     "shell.execute_reply": "2022-02-14T08:11:36.567232Z",
     "shell.execute_reply.started": "2022-02-14T07:51:50.372199Z"
    },
    "papermill": {
     "duration": 0.182681,
     "end_time": "2022-02-14T08:11:36.568188",
     "exception": false,
     "start_time": "2022-02-14T08:11:36.385507",
     "status": "completed"
    },
    "tags": []
   },
   "outputs": [
    {
     "data": {
      "text/plain": [
       "0    2380\n",
       "1    2380\n",
       "2    2380\n",
       "3    2379\n",
       "4    2379\n",
       "Name: fold, dtype: int64"
      ]
     },
     "metadata": {},
     "output_type": "display_data"
    },
    {
     "data": {
      "text/html": [
       "<div>\n",
       "<style scoped>\n",
       "    .dataframe tbody tr th:only-of-type {\n",
       "        vertical-align: middle;\n",
       "    }\n",
       "\n",
       "    .dataframe tbody tr th {\n",
       "        vertical-align: top;\n",
       "    }\n",
       "\n",
       "    .dataframe thead th {\n",
       "        text-align: right;\n",
       "    }\n",
       "</style>\n",
       "<table border=\"1\" class=\"dataframe\">\n",
       "  <thead>\n",
       "    <tr style=\"text-align: right;\">\n",
       "      <th></th>\n",
       "      <th>alls_4</th>\n",
       "      <th>path_4</th>\n",
       "      <th>nonpass4</th>\n",
       "      <th>path</th>\n",
       "      <th>nonpath</th>\n",
       "      <th>nonalls_4</th>\n",
       "      <th>fold</th>\n",
       "    </tr>\n",
       "  </thead>\n",
       "  <tbody>\n",
       "    <tr>\n",
       "      <th>0</th>\n",
       "      <td>{'x': 256, 'y': 144, 'width': 100, 'height': 64}</td>\n",
       "      <td>./img512_288/cots_crops/cotscrop-video_0-16-0.jpg</td>\n",
       "      <td>./img512_288/notcots_crops/notcotscrop-video_2...</td>\n",
       "      <td>cots_crops/cotscrop-video_0-16-0.jpg</td>\n",
       "      <td>notcots_crops/notcotscrop-video_2-4331-0.jpg</td>\n",
       "      <td>0</td>\n",
       "      <td>0</td>\n",
       "    </tr>\n",
       "    <tr>\n",
       "      <th>1</th>\n",
       "      <td>{'x': 256, 'y': 144, 'width': 100, 'height': 64}</td>\n",
       "      <td>./img512_288/cots_crops/cotscrop-video_0-17-0.jpg</td>\n",
       "      <td>./img512_288/notcots_crops/notcotscrop-video_1...</td>\n",
       "      <td>cots_crops/cotscrop-video_0-17-0.jpg</td>\n",
       "      <td>notcots_crops/notcotscrop-video_1-8615-0.jpg</td>\n",
       "      <td>0</td>\n",
       "      <td>0</td>\n",
       "    </tr>\n",
       "    <tr>\n",
       "      <th>2</th>\n",
       "      <td>{'x': 256, 'y': 144, 'width': 100, 'height': 64}</td>\n",
       "      <td>./img512_288/cots_crops/cotscrop-video_0-18-0.jpg</td>\n",
       "      <td>./img512_288/notcots_crops/notcotscrop-video_2...</td>\n",
       "      <td>cots_crops/cotscrop-video_0-18-0.jpg</td>\n",
       "      <td>notcots_crops/notcotscrop-video_2-513-0.jpg</td>\n",
       "      <td>0</td>\n",
       "      <td>0</td>\n",
       "    </tr>\n",
       "    <tr>\n",
       "      <th>3</th>\n",
       "      <td>{'x': 256, 'y': 144, 'width': 100, 'height': 64}</td>\n",
       "      <td>./img512_288/cots_crops/cotscrop-video_0-19-0.jpg</td>\n",
       "      <td>./img512_288/notcots_crops/notcotscrop-video_0...</td>\n",
       "      <td>cots_crops/cotscrop-video_0-19-0.jpg</td>\n",
       "      <td>notcots_crops/notcotscrop-video_0-2020-0.jpg</td>\n",
       "      <td>0</td>\n",
       "      <td>0</td>\n",
       "    </tr>\n",
       "    <tr>\n",
       "      <th>4</th>\n",
       "      <td>{'x': 256, 'y': 144, 'width': 100, 'height': 64}</td>\n",
       "      <td>./img512_288/cots_crops/cotscrop-video_0-20-0.jpg</td>\n",
       "      <td>./img512_288/notcots_crops/notcotscrop-video_1...</td>\n",
       "      <td>cots_crops/cotscrop-video_0-20-0.jpg</td>\n",
       "      <td>notcots_crops/notcotscrop-video_1-819-0.jpg</td>\n",
       "      <td>0</td>\n",
       "      <td>0</td>\n",
       "    </tr>\n",
       "  </tbody>\n",
       "</table>\n",
       "</div>"
      ],
      "text/plain": [
       "                                             alls_4  \\\n",
       "0  {'x': 256, 'y': 144, 'width': 100, 'height': 64}   \n",
       "1  {'x': 256, 'y': 144, 'width': 100, 'height': 64}   \n",
       "2  {'x': 256, 'y': 144, 'width': 100, 'height': 64}   \n",
       "3  {'x': 256, 'y': 144, 'width': 100, 'height': 64}   \n",
       "4  {'x': 256, 'y': 144, 'width': 100, 'height': 64}   \n",
       "\n",
       "                                              path_4  \\\n",
       "0  ./img512_288/cots_crops/cotscrop-video_0-16-0.jpg   \n",
       "1  ./img512_288/cots_crops/cotscrop-video_0-17-0.jpg   \n",
       "2  ./img512_288/cots_crops/cotscrop-video_0-18-0.jpg   \n",
       "3  ./img512_288/cots_crops/cotscrop-video_0-19-0.jpg   \n",
       "4  ./img512_288/cots_crops/cotscrop-video_0-20-0.jpg   \n",
       "\n",
       "                                            nonpass4  \\\n",
       "0  ./img512_288/notcots_crops/notcotscrop-video_2...   \n",
       "1  ./img512_288/notcots_crops/notcotscrop-video_1...   \n",
       "2  ./img512_288/notcots_crops/notcotscrop-video_2...   \n",
       "3  ./img512_288/notcots_crops/notcotscrop-video_0...   \n",
       "4  ./img512_288/notcots_crops/notcotscrop-video_1...   \n",
       "\n",
       "                                   path  \\\n",
       "0  cots_crops/cotscrop-video_0-16-0.jpg   \n",
       "1  cots_crops/cotscrop-video_0-17-0.jpg   \n",
       "2  cots_crops/cotscrop-video_0-18-0.jpg   \n",
       "3  cots_crops/cotscrop-video_0-19-0.jpg   \n",
       "4  cots_crops/cotscrop-video_0-20-0.jpg   \n",
       "\n",
       "                                        nonpath  nonalls_4  fold  \n",
       "0  notcots_crops/notcotscrop-video_2-4331-0.jpg          0     0  \n",
       "1  notcots_crops/notcotscrop-video_1-8615-0.jpg          0     0  \n",
       "2   notcots_crops/notcotscrop-video_2-513-0.jpg          0     0  \n",
       "3  notcots_crops/notcotscrop-video_0-2020-0.jpg          0     0  \n",
       "4   notcots_crops/notcotscrop-video_1-819-0.jpg          0     0  "
      ]
     },
     "execution_count": 14,
     "metadata": {},
     "output_type": "execute_result"
    }
   ],
   "source": [
    "from sklearn.model_selection import KFold\n",
    "kf = KFold(n_splits = 5)\n",
    "df = df4.reset_index(drop=True)\n",
    "df['fold'] = -1\n",
    "\n",
    "for fold, (train_idx, val_idx) in enumerate(kf.split(df, y=areas_1000)):\n",
    "    df.loc[val_idx, 'fold'] = fold\n",
    "    \n",
    "display(df.fold.value_counts())   \n",
    "df.head(5)"
   ]
  },
  {
   "cell_type": "code",
   "execution_count": 15,
   "id": "24281cc8",
   "metadata": {
    "execution": {
     "iopub.execute_input": "2022-02-14T08:11:36.623964Z",
     "iopub.status.busy": "2022-02-14T08:11:36.623171Z",
     "iopub.status.idle": "2022-02-14T08:11:36.636112Z",
     "shell.execute_reply": "2022-02-14T08:11:36.635664Z",
     "shell.execute_reply.started": "2022-02-14T07:51:53.738132Z"
    },
    "papermill": {
     "duration": 0.042433,
     "end_time": "2022-02-14T08:11:36.636223",
     "exception": false,
     "start_time": "2022-02-14T08:11:36.593790",
     "status": "completed"
    },
    "tags": []
   },
   "outputs": [
    {
     "data": {
      "text/html": [
       "<div>\n",
       "<style scoped>\n",
       "    .dataframe tbody tr th:only-of-type {\n",
       "        vertical-align: middle;\n",
       "    }\n",
       "\n",
       "    .dataframe tbody tr th {\n",
       "        vertical-align: top;\n",
       "    }\n",
       "\n",
       "    .dataframe thead th {\n",
       "        text-align: right;\n",
       "    }\n",
       "</style>\n",
       "<table border=\"1\" class=\"dataframe\">\n",
       "  <thead>\n",
       "    <tr style=\"text-align: right;\">\n",
       "      <th></th>\n",
       "      <th>alls_4</th>\n",
       "      <th>path_4</th>\n",
       "      <th>nonpass4</th>\n",
       "      <th>path</th>\n",
       "      <th>nonpath</th>\n",
       "      <th>nonalls_4</th>\n",
       "      <th>fold</th>\n",
       "    </tr>\n",
       "  </thead>\n",
       "  <tbody>\n",
       "    <tr>\n",
       "      <th>2380</th>\n",
       "      <td>{'x': 256, 'y': 144, 'width': 128, 'height': 122}</td>\n",
       "      <td>./img512_288/cots_crops/cotscrop-video_0-9678-...</td>\n",
       "      <td>./img512_288/notcots_crops/notcotscrop-video_2...</td>\n",
       "      <td>cots_crops/cotscrop-video_0-9678-0.jpg</td>\n",
       "      <td>notcots_crops/notcotscrop-video_2-2513-0.jpg</td>\n",
       "      <td>0</td>\n",
       "      <td>1</td>\n",
       "    </tr>\n",
       "    <tr>\n",
       "      <th>2381</th>\n",
       "      <td>{'x': 256, 'y': 144, 'width': 88, 'height': 86}</td>\n",
       "      <td>./img512_288/cots_crops/cotscrop-video_0-9678-...</td>\n",
       "      <td>./img512_288/notcots_crops/notcotscrop-video_2...</td>\n",
       "      <td>cots_crops/cotscrop-video_0-9678-1.jpg</td>\n",
       "      <td>notcots_crops/notcotscrop-video_2-2513-1.jpg</td>\n",
       "      <td>0</td>\n",
       "      <td>1</td>\n",
       "    </tr>\n",
       "    <tr>\n",
       "      <th>2382</th>\n",
       "      <td>{'x': 256, 'y': 144, 'width': 98, 'height': 102}</td>\n",
       "      <td>./img512_288/cots_crops/cotscrop-video_0-9678-...</td>\n",
       "      <td>./img512_288/notcots_crops/notcotscrop-video_2...</td>\n",
       "      <td>cots_crops/cotscrop-video_0-9678-2.jpg</td>\n",
       "      <td>notcots_crops/notcotscrop-video_2-2513-2.jpg</td>\n",
       "      <td>0</td>\n",
       "      <td>1</td>\n",
       "    </tr>\n",
       "    <tr>\n",
       "      <th>2383</th>\n",
       "      <td>{'x': 256, 'y': 144, 'width': 70, 'height': 66}</td>\n",
       "      <td>./img512_288/cots_crops/cotscrop-video_0-9678-...</td>\n",
       "      <td>./img512_288/notcots_crops/notcotscrop-video_2...</td>\n",
       "      <td>cots_crops/cotscrop-video_0-9678-3.jpg</td>\n",
       "      <td>notcots_crops/notcotscrop-video_2-2513-3.jpg</td>\n",
       "      <td>0</td>\n",
       "      <td>1</td>\n",
       "    </tr>\n",
       "    <tr>\n",
       "      <th>2384</th>\n",
       "      <td>{'x': 256, 'y': 144, 'width': 130, 'height': 126}</td>\n",
       "      <td>./img512_288/cots_crops/cotscrop-video_0-9679-...</td>\n",
       "      <td>./img512_288/notcots_crops/notcotscrop-video_2...</td>\n",
       "      <td>cots_crops/cotscrop-video_0-9679-0.jpg</td>\n",
       "      <td>notcots_crops/notcotscrop-video_2-5563-0.jpg</td>\n",
       "      <td>0</td>\n",
       "      <td>1</td>\n",
       "    </tr>\n",
       "    <tr>\n",
       "      <th>...</th>\n",
       "      <td>...</td>\n",
       "      <td>...</td>\n",
       "      <td>...</td>\n",
       "      <td>...</td>\n",
       "      <td>...</td>\n",
       "      <td>...</td>\n",
       "      <td>...</td>\n",
       "    </tr>\n",
       "    <tr>\n",
       "      <th>4755</th>\n",
       "      <td>{'x': 256, 'y': 144, 'width': 106, 'height': 96}</td>\n",
       "      <td>./img512_288/cots_crops/cotscrop-video_1-4756-...</td>\n",
       "      <td>./img512_288/notcots_crops/notcotscrop-video_2...</td>\n",
       "      <td>cots_crops/cotscrop-video_1-4756-0.jpg</td>\n",
       "      <td>notcots_crops/notcotscrop-video_2-10344-0.jpg</td>\n",
       "      <td>0</td>\n",
       "      <td>1</td>\n",
       "    </tr>\n",
       "    <tr>\n",
       "      <th>4756</th>\n",
       "      <td>{'x': 256, 'y': 144, 'width': 104, 'height': 92}</td>\n",
       "      <td>./img512_288/cots_crops/cotscrop-video_1-4757-...</td>\n",
       "      <td>./img512_288/notcots_crops/notcotscrop-video_1...</td>\n",
       "      <td>cots_crops/cotscrop-video_1-4757-0.jpg</td>\n",
       "      <td>notcots_crops/notcotscrop-video_1-2143-0.jpg</td>\n",
       "      <td>0</td>\n",
       "      <td>1</td>\n",
       "    </tr>\n",
       "    <tr>\n",
       "      <th>4757</th>\n",
       "      <td>{'x': 256, 'y': 144, 'width': 96, 'height': 88}</td>\n",
       "      <td>./img512_288/cots_crops/cotscrop-video_1-4758-...</td>\n",
       "      <td>./img512_288/notcots_crops/notcotscrop-video_0...</td>\n",
       "      <td>cots_crops/cotscrop-video_1-4758-0.jpg</td>\n",
       "      <td>notcots_crops/notcotscrop-video_0-6055-0.jpg</td>\n",
       "      <td>0</td>\n",
       "      <td>1</td>\n",
       "    </tr>\n",
       "    <tr>\n",
       "      <th>4758</th>\n",
       "      <td>{'x': 256, 'y': 144, 'width': 86, 'height': 80}</td>\n",
       "      <td>./img512_288/cots_crops/cotscrop-video_1-4759-...</td>\n",
       "      <td>./img512_288/notcots_crops/notcotscrop-video_0...</td>\n",
       "      <td>cots_crops/cotscrop-video_1-4759-0.jpg</td>\n",
       "      <td>notcots_crops/notcotscrop-video_0-5852-0.jpg</td>\n",
       "      <td>0</td>\n",
       "      <td>1</td>\n",
       "    </tr>\n",
       "    <tr>\n",
       "      <th>4759</th>\n",
       "      <td>{'x': 256, 'y': 144, 'width': 86, 'height': 80}</td>\n",
       "      <td>./img512_288/cots_crops/cotscrop-video_1-4760-...</td>\n",
       "      <td>./img512_288/notcots_crops/notcotscrop-video_2...</td>\n",
       "      <td>cots_crops/cotscrop-video_1-4760-0.jpg</td>\n",
       "      <td>notcots_crops/notcotscrop-video_2-1591-0.jpg</td>\n",
       "      <td>0</td>\n",
       "      <td>1</td>\n",
       "    </tr>\n",
       "  </tbody>\n",
       "</table>\n",
       "<p>2380 rows × 7 columns</p>\n",
       "</div>"
      ],
      "text/plain": [
       "                                                 alls_4  \\\n",
       "2380  {'x': 256, 'y': 144, 'width': 128, 'height': 122}   \n",
       "2381    {'x': 256, 'y': 144, 'width': 88, 'height': 86}   \n",
       "2382   {'x': 256, 'y': 144, 'width': 98, 'height': 102}   \n",
       "2383    {'x': 256, 'y': 144, 'width': 70, 'height': 66}   \n",
       "2384  {'x': 256, 'y': 144, 'width': 130, 'height': 126}   \n",
       "...                                                 ...   \n",
       "4755   {'x': 256, 'y': 144, 'width': 106, 'height': 96}   \n",
       "4756   {'x': 256, 'y': 144, 'width': 104, 'height': 92}   \n",
       "4757    {'x': 256, 'y': 144, 'width': 96, 'height': 88}   \n",
       "4758    {'x': 256, 'y': 144, 'width': 86, 'height': 80}   \n",
       "4759    {'x': 256, 'y': 144, 'width': 86, 'height': 80}   \n",
       "\n",
       "                                                 path_4  \\\n",
       "2380  ./img512_288/cots_crops/cotscrop-video_0-9678-...   \n",
       "2381  ./img512_288/cots_crops/cotscrop-video_0-9678-...   \n",
       "2382  ./img512_288/cots_crops/cotscrop-video_0-9678-...   \n",
       "2383  ./img512_288/cots_crops/cotscrop-video_0-9678-...   \n",
       "2384  ./img512_288/cots_crops/cotscrop-video_0-9679-...   \n",
       "...                                                 ...   \n",
       "4755  ./img512_288/cots_crops/cotscrop-video_1-4756-...   \n",
       "4756  ./img512_288/cots_crops/cotscrop-video_1-4757-...   \n",
       "4757  ./img512_288/cots_crops/cotscrop-video_1-4758-...   \n",
       "4758  ./img512_288/cots_crops/cotscrop-video_1-4759-...   \n",
       "4759  ./img512_288/cots_crops/cotscrop-video_1-4760-...   \n",
       "\n",
       "                                               nonpass4  \\\n",
       "2380  ./img512_288/notcots_crops/notcotscrop-video_2...   \n",
       "2381  ./img512_288/notcots_crops/notcotscrop-video_2...   \n",
       "2382  ./img512_288/notcots_crops/notcotscrop-video_2...   \n",
       "2383  ./img512_288/notcots_crops/notcotscrop-video_2...   \n",
       "2384  ./img512_288/notcots_crops/notcotscrop-video_2...   \n",
       "...                                                 ...   \n",
       "4755  ./img512_288/notcots_crops/notcotscrop-video_2...   \n",
       "4756  ./img512_288/notcots_crops/notcotscrop-video_1...   \n",
       "4757  ./img512_288/notcots_crops/notcotscrop-video_0...   \n",
       "4758  ./img512_288/notcots_crops/notcotscrop-video_0...   \n",
       "4759  ./img512_288/notcots_crops/notcotscrop-video_2...   \n",
       "\n",
       "                                        path  \\\n",
       "2380  cots_crops/cotscrop-video_0-9678-0.jpg   \n",
       "2381  cots_crops/cotscrop-video_0-9678-1.jpg   \n",
       "2382  cots_crops/cotscrop-video_0-9678-2.jpg   \n",
       "2383  cots_crops/cotscrop-video_0-9678-3.jpg   \n",
       "2384  cots_crops/cotscrop-video_0-9679-0.jpg   \n",
       "...                                      ...   \n",
       "4755  cots_crops/cotscrop-video_1-4756-0.jpg   \n",
       "4756  cots_crops/cotscrop-video_1-4757-0.jpg   \n",
       "4757  cots_crops/cotscrop-video_1-4758-0.jpg   \n",
       "4758  cots_crops/cotscrop-video_1-4759-0.jpg   \n",
       "4759  cots_crops/cotscrop-video_1-4760-0.jpg   \n",
       "\n",
       "                                            nonpath  nonalls_4  fold  \n",
       "2380   notcots_crops/notcotscrop-video_2-2513-0.jpg          0     1  \n",
       "2381   notcots_crops/notcotscrop-video_2-2513-1.jpg          0     1  \n",
       "2382   notcots_crops/notcotscrop-video_2-2513-2.jpg          0     1  \n",
       "2383   notcots_crops/notcotscrop-video_2-2513-3.jpg          0     1  \n",
       "2384   notcots_crops/notcotscrop-video_2-5563-0.jpg          0     1  \n",
       "...                                             ...        ...   ...  \n",
       "4755  notcots_crops/notcotscrop-video_2-10344-0.jpg          0     1  \n",
       "4756   notcots_crops/notcotscrop-video_1-2143-0.jpg          0     1  \n",
       "4757   notcots_crops/notcotscrop-video_0-6055-0.jpg          0     1  \n",
       "4758   notcots_crops/notcotscrop-video_0-5852-0.jpg          0     1  \n",
       "4759   notcots_crops/notcotscrop-video_2-1591-0.jpg          0     1  \n",
       "\n",
       "[2380 rows x 7 columns]"
      ]
     },
     "execution_count": 15,
     "metadata": {},
     "output_type": "execute_result"
    }
   ],
   "source": [
    "df[df['fold']==1]"
   ]
  },
  {
   "cell_type": "code",
   "execution_count": 16,
   "id": "1487a2f0",
   "metadata": {
    "execution": {
     "iopub.execute_input": "2022-02-14T08:11:36.693021Z",
     "iopub.status.busy": "2022-02-14T08:11:36.692360Z",
     "iopub.status.idle": "2022-02-14T08:11:36.694842Z",
     "shell.execute_reply": "2022-02-14T08:11:36.695322Z",
     "shell.execute_reply.started": "2022-02-14T07:51:53.888197Z"
    },
    "papermill": {
     "duration": 0.032947,
     "end_time": "2022-02-14T08:11:36.695444",
     "exception": false,
     "start_time": "2022-02-14T08:11:36.662497",
     "status": "completed"
    },
    "tags": []
   },
   "outputs": [
    {
     "data": {
      "text/plain": [
       "(11898, 7)"
      ]
     },
     "execution_count": 16,
     "metadata": {},
     "output_type": "execute_result"
    }
   ],
   "source": [
    "df.shape"
   ]
  },
  {
   "cell_type": "code",
   "execution_count": 17,
   "id": "66680709",
   "metadata": {
    "execution": {
     "iopub.execute_input": "2022-02-14T08:11:36.754825Z",
     "iopub.status.busy": "2022-02-14T08:11:36.754110Z",
     "iopub.status.idle": "2022-02-14T08:11:39.460174Z",
     "shell.execute_reply": "2022-02-14T08:11:39.460584Z",
     "shell.execute_reply.started": "2022-02-14T07:51:57.821258Z"
    },
    "papermill": {
     "duration": 2.739103,
     "end_time": "2022-02-14T08:11:39.460773",
     "exception": false,
     "start_time": "2022-02-14T08:11:36.721670",
     "status": "completed"
    },
    "tags": []
   },
   "outputs": [],
   "source": [
    "!mkdir -p ./yolo_data/fold2/images/val\n",
    "!mkdir -p ./yolo_data/fold2/images/train\n",
    "\n",
    "!mkdir -p ./yolo_data/fold2/labels/val\n",
    "!mkdir -p ./yolo_data/fold2/labels/train"
   ]
  },
  {
   "cell_type": "code",
   "execution_count": 18,
   "id": "273027da",
   "metadata": {
    "execution": {
     "iopub.execute_input": "2022-02-14T08:11:39.529885Z",
     "iopub.status.busy": "2022-02-14T08:11:39.529264Z",
     "iopub.status.idle": "2022-02-14T08:11:40.199098Z",
     "shell.execute_reply": "2022-02-14T08:11:40.199719Z",
     "shell.execute_reply.started": "2022-02-14T07:52:30.332462Z"
    },
    "papermill": {
     "duration": 0.708402,
     "end_time": "2022-02-14T08:11:40.199884",
     "exception": false,
     "start_time": "2022-02-14T08:11:39.491482",
     "status": "completed"
    },
    "tags": []
   },
   "outputs": [
    {
     "name": "stdout",
     "output_type": "stream",
     "text": [
      "__notebook__.ipynb  yolo_data\r\n"
     ]
    }
   ],
   "source": [
    "!ls"
   ]
  },
  {
   "cell_type": "markdown",
   "id": "abcf6575",
   "metadata": {
    "papermill": {
     "duration": 0.027853,
     "end_time": "2022-02-14T08:11:40.257788",
     "exception": false,
     "start_time": "2022-02-14T08:11:40.229935",
     "status": "completed"
    },
    "tags": []
   },
   "source": [
    "'''\n",
    "fold = 1\n",
    "annos = []\n",
    "for i, x in train.iterrows():\n",
    "    if x.video_id == fold:\n",
    "        mode = 'val'\n",
    "    else:\n",
    "        # train\n",
    "        mode = 'train'\n",
    "        if not x.pos: continue\n",
    "        # val\n",
    "    copyfile(f'../input/tensorflow-great-barrier-reef/train_images/video_{x.video_id}/{x.video_frame}.jpg',\n",
    "                f'./yolo_data/fold{fold}/images/{mode}/{x.image_id}.jpg')\n",
    "    if not x.pos:\n",
    "        continue\n",
    "    r = ''\n",
    "    anno = eval(x.annotations)\n",
    "    for an in anno:\n",
    "#            annos.append(an)\n",
    "        r += '0 {} {} {} {}\\n'.format((an['x'] + an['width'] / 2) / 1280,\n",
    "                                        (an['y'] + an['height'] / 2) / 720,\n",
    "                                        an['width'] / 1280, an['height'] / 720)\n",
    "    with open(f'./yolo_data/fold{fold}/labels/{mode}/{x.image_id}.txt', 'w') as fp:\n",
    "        fp.write(r)\n",
    "\n",
    "'''"
   ]
  },
  {
   "cell_type": "code",
   "execution_count": 19,
   "id": "0c686dda",
   "metadata": {
    "execution": {
     "iopub.execute_input": "2022-02-14T08:11:40.320153Z",
     "iopub.status.busy": "2022-02-14T08:11:40.319276Z",
     "iopub.status.idle": "2022-02-14T08:12:30.632115Z",
     "shell.execute_reply": "2022-02-14T08:12:30.632575Z",
     "shell.execute_reply.started": "2022-02-14T08:04:29.172077Z"
    },
    "papermill": {
     "duration": 50.348479,
     "end_time": "2022-02-14T08:12:30.632784",
     "exception": false,
     "start_time": "2022-02-14T08:11:40.284305",
     "status": "completed"
    },
    "tags": []
   },
   "outputs": [],
   "source": [
    "fold = 2\n",
    "z=0\n",
    "annos = []\n",
    "for i, x in df.iterrows():\n",
    "    if x.fold == fold:\n",
    "        mode = 'val'\n",
    "    else:\n",
    "        # train\n",
    "        mode = 'train'\n",
    "        #if not x.pos: continue\n",
    "        # val\n",
    "    copyfile(f'../input/cots-cropimg-04-512-288/{x.path}',\n",
    "                f'./yolo_data/fold{fold}/images/{mode}/crop_{z}.jpg')\n",
    "    #if not x.pos:\n",
    "    #    continue\n",
    "    r = ''\n",
    "    anno = ast.literal_eval(x.alls_4)\n",
    "    #for an in anno:\n",
    "    an = anno\n",
    "#            annos.append(an)\n",
    "    r += '0 {} {} {} {}\\n'.format((an['x'] + an['width'] / 2) / 512,\n",
    "                                    (an['y'] + an['height'] / 2) / 288,\n",
    "                                    an['width'] / 512, an['height'] / 288)\n",
    "    with open(f'./yolo_data/fold{fold}/labels/{mode}/crop_{z}.txt', 'w') as fp:\n",
    "        fp.write(r)\n",
    "    z+=1"
   ]
  },
  {
   "cell_type": "code",
   "execution_count": 20,
   "id": "15f45c01",
   "metadata": {
    "execution": {
     "iopub.execute_input": "2022-02-14T08:12:30.693272Z",
     "iopub.status.busy": "2022-02-14T08:12:30.692312Z",
     "iopub.status.idle": "2022-02-14T08:12:30.694281Z",
     "shell.execute_reply": "2022-02-14T08:12:30.694728Z",
     "shell.execute_reply.started": "2022-02-14T08:05:36.916823Z"
    },
    "papermill": {
     "duration": 0.034751,
     "end_time": "2022-02-14T08:12:30.694854",
     "exception": false,
     "start_time": "2022-02-14T08:12:30.660103",
     "status": "completed"
    },
    "tags": []
   },
   "outputs": [],
   "source": [
    "hyps = '''\n",
    "# YOLOv5 by Ultralytics, GPL-3.0 license\n",
    "# Hyperparameters for COCO training from scratch\n",
    "# python train.py --batch 40 --cfg yolov5m.yaml --weights '' --data coco.yaml --img 640 --epochs 300\n",
    "# See tutorials for hyperparameter evolution https://github.com/ultralytics/yolov5#tutorials\n",
    "\n",
    "lr0: 0.001  # initial learning rate (SGD=1E-2, Adam=1E-3)\n",
    "lrf: 0.1  # final OneCycleLR learning rate (lr0 * lrf)\n",
    "momentum: 0.937  # SGD momentum/Adam beta1\n",
    "beta: 1\n",
    "weight_decay: 0.0005  # optimizer weight decay 5e-4\n",
    "warmup_epochs: 3.0  # warmup epochs (fractions ok)\n",
    "warmup_momentum: 0.8  # warmup initial momentum\n",
    "warmup_bias_lr: 0.1  # warmup initial bias lr\n",
    "box: 0.05  # box loss gain\n",
    "cls: 0.5  # cls loss gain\n",
    "cls_pw: 1.0  # cls BCELoss positive_weight\n",
    "obj: 1.0  # obj loss gain (scale with pixels)\n",
    "obj_pw: 1.0  # obj BCELoss positive_weight\n",
    "iou_t: 0.20  # IoU training threshold\n",
    "anchor_t: 4.0  # anchor-multiple threshold\n",
    "# anchors: 3  # anchors per output layer (0 to ignore)\n",
    "fl_gamma: 0.0  # focal loss gamma (efficientDet default gamma=1.5)\n",
    "hsv_h: 0.015  # image HSV-Hue augmentation (fraction)\n",
    "hsv_s: 0.7  # image HSV-Saturation augmentation (fraction)\n",
    "hsv_v: 0.4  # image HSV-Value augmentation (fraction)\n",
    "degrees: 0.0  # image rotation (+/- deg)\n",
    "translate: 0.1  # image translation (+/- fraction)\n",
    "scale: 0.5  # image scale (+/- gain)\n",
    "shear: 0.0  # image shear (+/- deg)\n",
    "perspective: 0.0  # image perspective (+/- fraction), range 0-0.001\n",
    "flipud: 0.5  # image flip up-down (probability)\n",
    "fliplr: 0.5  # image flip left-right (probability)\n",
    "mosaic: 1.0  # image mosaic (probability)\n",
    "mixup: 0.5  # image mixup (probability)\n",
    "copy_paste: 0.0  # segment copy-paste (probability)\n",
    "'''"
   ]
  },
  {
   "cell_type": "code",
   "execution_count": 21,
   "id": "e8fcf179",
   "metadata": {
    "execution": {
     "iopub.execute_input": "2022-02-14T08:12:30.751977Z",
     "iopub.status.busy": "2022-02-14T08:12:30.751441Z",
     "iopub.status.idle": "2022-02-14T08:12:30.754763Z",
     "shell.execute_reply": "2022-02-14T08:12:30.755178Z",
     "shell.execute_reply.started": "2022-02-14T08:05:40.939449Z"
    },
    "papermill": {
     "duration": 0.033919,
     "end_time": "2022-02-14T08:12:30.755298",
     "exception": false,
     "start_time": "2022-02-14T08:12:30.721379",
     "status": "completed"
    },
    "tags": []
   },
   "outputs": [],
   "source": [
    "data = '''\n",
    "# Train/val/test sets as 1) dir: path/to/imgs, 2) file: path/to/imgs.txt, or 3) list: [path/to/imgs1, path/to/imgs2, ..]\n",
    "path: ../yolo_data/fold2/  # dataset root dir\n",
    "train: images/train  # train images (relative to 'path') 128 images\n",
    "val: images/val  # val images (relative to 'path') 128 images\n",
    "test:  # test images (optional)\n",
    "\n",
    "# Classes\n",
    "nc: 1  # number of classes\n",
    "names: ['reef']  # class names\n",
    "\n",
    "\n",
    "# Download script/URL (optional)\n",
    "# download: https://ultralytics.com/assets/coco128.zip\n",
    "'''"
   ]
  },
  {
   "cell_type": "code",
   "execution_count": 22,
   "id": "cab94abc",
   "metadata": {
    "execution": {
     "iopub.execute_input": "2022-02-14T08:12:30.813559Z",
     "iopub.status.busy": "2022-02-14T08:12:30.812697Z",
     "iopub.status.idle": "2022-02-14T08:12:35.856428Z",
     "shell.execute_reply": "2022-02-14T08:12:35.857062Z",
     "shell.execute_reply.started": "2022-02-14T08:05:43.850503Z"
    },
    "papermill": {
     "duration": 5.075046,
     "end_time": "2022-02-14T08:12:35.857295",
     "exception": false,
     "start_time": "2022-02-14T08:12:30.782249",
     "status": "completed"
    },
    "tags": []
   },
   "outputs": [
    {
     "name": "stdout",
     "output_type": "stream",
     "text": [
      "Cloning into 'yolov5'...\r\n",
      "remote: Enumerating objects: 10866, done.\u001b[K\r\n",
      "remote: Total 10866 (delta 0), reused 0 (delta 0), pack-reused 10866\u001b[K\r\n",
      "Receiving objects: 100% (10866/10866), 11.01 MiB | 13.80 MiB/s, done.\r\n",
      "Resolving deltas: 100% (7503/7503), done.\r\n"
     ]
    }
   ],
   "source": [
    "!git clone https://github.com/ultralytics/yolov5.git"
   ]
  },
  {
   "cell_type": "code",
   "execution_count": 23,
   "id": "07ee7d7c",
   "metadata": {
    "execution": {
     "iopub.execute_input": "2022-02-14T08:12:36.001168Z",
     "iopub.status.busy": "2022-02-14T08:12:36.000128Z",
     "iopub.status.idle": "2022-02-14T08:12:36.002937Z",
     "shell.execute_reply": "2022-02-14T08:12:36.002090Z",
     "shell.execute_reply.started": "2022-02-14T08:05:47.652612Z"
    },
    "papermill": {
     "duration": 0.077893,
     "end_time": "2022-02-14T08:12:36.003120",
     "exception": false,
     "start_time": "2022-02-14T08:12:35.925227",
     "status": "completed"
    },
    "tags": []
   },
   "outputs": [],
   "source": [
    "with open('./yolov5/data/reef_f1_naive.yaml', 'w') as fp:\n",
    "    fp.write(data)\n",
    "with open('./yolov5/data/hyps/hyp.heavy.2.yaml', 'w') as fp:\n",
    "    fp.write(hyps)"
   ]
  },
  {
   "cell_type": "code",
   "execution_count": 24,
   "id": "a9b5c495",
   "metadata": {
    "execution": {
     "iopub.execute_input": "2022-02-14T08:12:36.145704Z",
     "iopub.status.busy": "2022-02-14T08:12:36.144758Z",
     "iopub.status.idle": "2022-02-14T08:12:36.148624Z",
     "shell.execute_reply": "2022-02-14T08:12:36.146507Z",
     "shell.execute_reply.started": "2022-02-14T08:06:08.667300Z"
    },
    "papermill": {
     "duration": 0.079923,
     "end_time": "2022-02-14T08:12:36.148789",
     "exception": false,
     "start_time": "2022-02-14T08:12:36.068866",
     "status": "completed"
    },
    "tags": []
   },
   "outputs": [
    {
     "name": "stdout",
     "output_type": "stream",
     "text": [
      "/kaggle/working/yolov5\n"
     ]
    }
   ],
   "source": [
    "%cd yolov5"
   ]
  },
  {
   "cell_type": "code",
   "execution_count": 25,
   "id": "3e8932d4",
   "metadata": {
    "execution": {
     "iopub.execute_input": "2022-02-14T08:12:36.300227Z",
     "iopub.status.busy": "2022-02-14T08:12:36.299462Z",
     "iopub.status.idle": "2022-02-14T08:12:37.023655Z",
     "shell.execute_reply": "2022-02-14T08:12:37.022910Z",
     "shell.execute_reply.started": "2022-02-14T08:06:08.969478Z"
    },
    "papermill": {
     "duration": 0.804333,
     "end_time": "2022-02-14T08:12:37.023868",
     "exception": false,
     "start_time": "2022-02-14T08:12:36.219535",
     "status": "completed"
    },
    "tags": []
   },
   "outputs": [
    {
     "name": "stdout",
     "output_type": "stream",
     "text": [
      "Argoverse.yaml\t      VOC.yaml\t     hyps\t\t xView.yaml\r\n",
      "GlobalWheat2020.yaml  VisDrone.yaml  images\r\n",
      "Objects365.yaml       coco.yaml      reef_f1_naive.yaml\r\n",
      "SKU-110K.yaml\t      coco128.yaml   scripts\r\n"
     ]
    }
   ],
   "source": [
    "!ls data/"
   ]
  },
  {
   "cell_type": "code",
   "execution_count": 26,
   "id": "558584de",
   "metadata": {
    "execution": {
     "iopub.execute_input": "2022-02-14T08:12:37.108228Z",
     "iopub.status.busy": "2022-02-14T08:12:37.107265Z",
     "iopub.status.idle": "2022-02-14T09:57:15.544864Z",
     "shell.execute_reply": "2022-02-14T09:57:15.544336Z",
     "shell.execute_reply.started": "2022-02-14T08:08:53.389830Z"
    },
    "papermill": {
     "duration": 6278.482578,
     "end_time": "2022-02-14T09:57:15.545016",
     "exception": false,
     "start_time": "2022-02-14T08:12:37.062438",
     "status": "completed"
    },
    "tags": []
   },
   "outputs": [
    {
     "name": "stdout",
     "output_type": "stream",
     "text": [
      "\u001b[34m\u001b[1mwandb\u001b[0m: Currently logged in as: \u001b[33mmochi22\u001b[0m (use `wandb login --relogin` to force relogin)\r\n",
      "\u001b[34m\u001b[1mwandb\u001b[0m: wandb version 0.12.10 is available!  To upgrade, please run:\r\n",
      "\u001b[34m\u001b[1mwandb\u001b[0m:  $ pip install wandb --upgrade\r\n",
      "\u001b[34m\u001b[1mwandb\u001b[0m: Tracking run with wandb version 0.12.7\r\n",
      "\u001b[34m\u001b[1mwandb\u001b[0m: Syncing run \u001b[33ms6_512_batch16_10epochs\u001b[0m\r\n",
      "\u001b[34m\u001b[1mwandb\u001b[0m: ⭐️ View project at \u001b[34m\u001b[4mhttps://wandb.ai/mochi22/YOLOv5\u001b[0m\r\n",
      "\u001b[34m\u001b[1mwandb\u001b[0m: 🚀 View run at \u001b[34m\u001b[4mhttps://wandb.ai/mochi22/YOLOv5/runs/2w6cgoms\u001b[0m\r\n",
      "\u001b[34m\u001b[1mwandb\u001b[0m: Run data is saved locally in /kaggle/working/yolov5/wandb/run-20220214_081245-2w6cgoms\r\n",
      "\u001b[34m\u001b[1mwandb\u001b[0m: Run `wandb offline` to turn off syncing.\r\n",
      "\r\n",
      "\r\n",
      "\r\n",
      "\r\n",
      "\r\n",
      "\r\n",
      "\r\n",
      "\r\n",
      "\r\n",
      "\r\n",
      "\r\n",
      "\r\n",
      "\r\n",
      "\r\n",
      "\r\n",
      "\r\n",
      "\r\n",
      "\r\n",
      "\r\n",
      "\r\n",
      "\r\n",
      "\r\n",
      "\r\n",
      "\r\n",
      "\r\n",
      "\r\n",
      "\r\n",
      "\r\n",
      "\r\n",
      "\r\n",
      "\r\n",
      "\r\n",
      "\r\n",
      "\r\n",
      "\r\n",
      "\r\n",
      "\r\n",
      "\r\n",
      "\r\n",
      "\r\n",
      "\r\n",
      "\r\n",
      "\r\n",
      "\r\n",
      "\r\n",
      "\r\n",
      "\r\n",
      "\r\n",
      "\u001b[34m\u001b[1mwandb\u001b[0m: Waiting for W&B process to finish, PID 154... (success).\r\n",
      "\u001b[34m\u001b[1mwandb\u001b[0m:                                                                                \r\n",
      "\u001b[34m\u001b[1mwandb\u001b[0m: Run history:\r\n",
      "\u001b[34m\u001b[1mwandb\u001b[0m:        metrics/mAP_0.5 ▁▁▁▁▃▂▃▄▄▆▃▅▄▆▆▅▅██▇█\r\n",
      "\u001b[34m\u001b[1mwandb\u001b[0m:   metrics/mAP_0.5:0.95 ▁▁▁▁▂▂▂▄▃▅▃▅▃▅▆▅▅██▇█\r\n",
      "\u001b[34m\u001b[1mwandb\u001b[0m:      metrics/precision ▁▁▁▁▃▂▃▅▄▆▄▅▅▆▆▅▆▇█▇█\r\n",
      "\u001b[34m\u001b[1mwandb\u001b[0m:         metrics/recall ▇▁▆▃▂▃▃▅▆▇▆█▅▆▇▇▆█▇▇▇\r\n",
      "\u001b[34m\u001b[1mwandb\u001b[0m:         train/box_loss █▆▅▅▅▅▄▄▄▃▃▃▃▃▂▂▂▂▁▁\r\n",
      "\u001b[34m\u001b[1mwandb\u001b[0m:         train/cls_loss ▁▁▁▁▁▁▁▁▁▁▁▁▁▁▁▁▁▁▁▁\r\n",
      "\u001b[34m\u001b[1mwandb\u001b[0m:         train/obj_loss █▇█▇▇▆█▇▆▅▅▅▃▄▄▄▃▃▃▁\r\n",
      "\u001b[34m\u001b[1mwandb\u001b[0m:           val/box_loss █▆▅▅▄▄▅▄▄▃▃▃▃▂▁▂▂▁▁▁▁\r\n",
      "\u001b[34m\u001b[1mwandb\u001b[0m:           val/cls_loss ▁▁▁▁▁▁▁▁▁▁▁▁▁▁▁▁▁▁▁▁▁\r\n",
      "\u001b[34m\u001b[1mwandb\u001b[0m:           val/obj_loss ▅█▇▄▇▇▅▆▁▂▄▁▂▁▂▃▄▁▂▂▂\r\n",
      "\u001b[34m\u001b[1mwandb\u001b[0m:                  x/lr0 ▃▅███▇▇▇▆▆▅▅▄▃▃▂▂▂▁▁\r\n",
      "\u001b[34m\u001b[1mwandb\u001b[0m:                  x/lr1 ▃▅███▇▇▇▆▆▅▅▄▃▃▂▂▂▁▁\r\n",
      "\u001b[34m\u001b[1mwandb\u001b[0m:                  x/lr2 █▅▁▁▁▁▁▁▁▁▁▁▁▁▁▁▁▁▁▁\r\n",
      "\u001b[34m\u001b[1mwandb\u001b[0m: \r\n",
      "\u001b[34m\u001b[1mwandb\u001b[0m: Run summary:\r\n",
      "\u001b[34m\u001b[1mwandb\u001b[0m:             best/epoch 18\r\n",
      "\u001b[34m\u001b[1mwandb\u001b[0m:           best/mAP_0.5 0.41859\r\n",
      "\u001b[34m\u001b[1mwandb\u001b[0m:      best/mAP_0.5:0.95 0.14402\r\n",
      "\u001b[34m\u001b[1mwandb\u001b[0m:         best/precision 0.46905\r\n",
      "\u001b[34m\u001b[1mwandb\u001b[0m:            best/recall 0.46008\r\n",
      "\u001b[34m\u001b[1mwandb\u001b[0m:        metrics/mAP_0.5 0.41805\r\n",
      "\u001b[34m\u001b[1mwandb\u001b[0m:   metrics/mAP_0.5:0.95 0.14394\r\n",
      "\u001b[34m\u001b[1mwandb\u001b[0m:      metrics/precision 0.46586\r\n",
      "\u001b[34m\u001b[1mwandb\u001b[0m:         metrics/recall 0.46176\r\n",
      "\u001b[34m\u001b[1mwandb\u001b[0m:         train/box_loss 0.04447\r\n",
      "\u001b[34m\u001b[1mwandb\u001b[0m:         train/cls_loss 0.0\r\n",
      "\u001b[34m\u001b[1mwandb\u001b[0m:         train/obj_loss 0.02629\r\n",
      "\u001b[34m\u001b[1mwandb\u001b[0m:           val/box_loss 0.0304\r\n",
      "\u001b[34m\u001b[1mwandb\u001b[0m:           val/cls_loss 0.0\r\n",
      "\u001b[34m\u001b[1mwandb\u001b[0m:           val/obj_loss 0.0132\r\n",
      "\u001b[34m\u001b[1mwandb\u001b[0m:                  x/lr0 0.00012\r\n",
      "\u001b[34m\u001b[1mwandb\u001b[0m:                  x/lr1 0.00012\r\n",
      "\u001b[34m\u001b[1mwandb\u001b[0m:                  x/lr2 0.00012\r\n",
      "\u001b[34m\u001b[1mwandb\u001b[0m: \r\n",
      "\u001b[34m\u001b[1mwandb\u001b[0m: Synced 5 W&B file(s), 337 media file(s), 19 artifact file(s) and 0 other file(s)\r\n",
      "\u001b[34m\u001b[1mwandb\u001b[0m: Synced \u001b[33ms6_512_batch16_10epochs\u001b[0m: \u001b[34mhttps://wandb.ai/mochi22/YOLOv5/runs/2w6cgoms\u001b[0m\r\n",
      "\u001b[34m\u001b[1mwandb\u001b[0m: Find logs at: ./wandb/run-20220214_081245-2w6cgoms/logs/debug.log\r\n",
      "\u001b[34m\u001b[1mwandb\u001b[0m: \r\n",
      "Exception ignored in: <function _MultiProcessingDataLoaderIter.__del__ at 0x7fc1b3fb88c0>\r\n",
      "Traceback (most recent call last):\r\n",
      "  File \"/opt/conda/lib/python3.7/site-packages/torch/utils/data/dataloader.py\", line 1328, in __del__\r\n",
      "  File \"/opt/conda/lib/python3.7/site-packages/torch/utils/data/dataloader.py\", line 1262, in _shutdown_workers\r\n",
      "AttributeError: 'NoneType' object has no attribute 'python_exit_status'\r\n",
      "Exception ignored in: <function _MultiProcessingDataLoaderIter.__del__ at 0x7fc1b3fb88c0>\r\n",
      "Traceback (most recent call last):\r\n",
      "  File \"/opt/conda/lib/python3.7/site-packages/torch/utils/data/dataloader.py\", line 1328, in __del__\r\n",
      "  File \"/opt/conda/lib/python3.7/site-packages/torch/utils/data/dataloader.py\", line 1262, in _shutdown_workers\r\n",
      "AttributeError: 'NoneType' object has no attribute 'python_exit_status'\r\n"
     ]
    }
   ],
   "source": [
    "!python train.py --img 512 --batch 16 --epochs 20 --multi-scale --optimizer Adam --save-period 1 --patience 5 --data reef_f1_naive.yaml --weights yolov5s6.pt --name s6_512_batch16_10epochs --hyp data/hyps/hyp.heavy.2.yaml"
   ]
  },
  {
   "cell_type": "code",
   "execution_count": 27,
   "id": "2fb44250",
   "metadata": {
    "execution": {
     "iopub.execute_input": "2022-02-14T09:57:23.242086Z",
     "iopub.status.busy": "2022-02-14T09:57:23.241195Z",
     "iopub.status.idle": "2022-02-14T09:57:23.969639Z",
     "shell.execute_reply": "2022-02-14T09:57:23.969167Z",
     "shell.execute_reply.started": "2022-02-07T06:40:34.839556Z"
    },
    "papermill": {
     "duration": 4.421098,
     "end_time": "2022-02-14T09:57:23.969788",
     "exception": false,
     "start_time": "2022-02-14T09:57:19.548690",
     "status": "completed"
    },
    "tags": []
   },
   "outputs": [
    {
     "name": "stdout",
     "output_type": "stream",
     "text": [
      "CONTRIBUTING.md  __pycache__  hubconf.py\tsetup.cfg\tval.py\r\n",
      "Dockerfile\t data\t      models\t\ttrain.py\twandb\r\n",
      "LICENSE\t\t detect.py    requirements.txt\ttutorial.ipynb\tyolov5s6.pt\r\n",
      "README.md\t export.py    runs\t\tutils\r\n"
     ]
    }
   ],
   "source": [
    "!ls"
   ]
  },
  {
   "cell_type": "code",
   "execution_count": null,
   "id": "ed958733",
   "metadata": {
    "papermill": {
     "duration": 3.950141,
     "end_time": "2022-02-14T09:57:31.642038",
     "exception": false,
     "start_time": "2022-02-14T09:57:27.691897",
     "status": "completed"
    },
    "tags": []
   },
   "outputs": [],
   "source": []
  }
 ],
 "metadata": {
  "kernelspec": {
   "display_name": "Python 3",
   "language": "python",
   "name": "python3"
  },
  "language_info": {
   "codemirror_mode": {
    "name": "ipython",
    "version": 3
   },
   "file_extension": ".py",
   "mimetype": "text/x-python",
   "name": "python",
   "nbconvert_exporter": "python",
   "pygments_lexer": "ipython3",
   "version": "3.7.12"
  },
  "papermill": {
   "default_parameters": {},
   "duration": 6379.802261,
   "end_time": "2022-02-14T09:57:38.947289",
   "environment_variables": {},
   "exception": null,
   "input_path": "__notebook__.ipynb",
   "output_path": "__notebook__.ipynb",
   "parameters": {},
   "start_time": "2022-02-14T08:11:19.145028",
   "version": "2.3.3"
  }
 },
 "nbformat": 4,
 "nbformat_minor": 5
}
